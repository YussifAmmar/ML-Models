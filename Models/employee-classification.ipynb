{
 "cells": [
  {
   "cell_type": "code",
   "execution_count": 1,
   "id": "afd8d36f",
   "metadata": {
    "_cell_guid": "b1076dfc-b9ad-4769-8c92-a6c4dae69d19",
    "_uuid": "8f2839f25d086af736a60e9eeb907d3b93b6e0e5",
    "execution": {
     "iopub.execute_input": "2025-04-24T16:03:30.864482Z",
     "iopub.status.busy": "2025-04-24T16:03:30.864096Z",
     "iopub.status.idle": "2025-04-24T16:03:35.242756Z",
     "shell.execute_reply": "2025-04-24T16:03:35.241981Z"
    },
    "papermill": {
     "duration": 4.387266,
     "end_time": "2025-04-24T16:03:35.244727",
     "exception": false,
     "start_time": "2025-04-24T16:03:30.857461",
     "status": "completed"
    },
    "tags": []
   },
   "outputs": [],
   "source": [
    "import numpy as np\n",
    "import matplotlib.pyplot as plt\n",
    "import pandas as pd\n",
    "import seaborn as sns\n",
    "from sklearn.model_selection import train_test_split\n",
    "from sklearn.linear_model import LogisticRegression\n",
    "from sklearn.metrics import confusion_matrix, classification_report, accuracy_score,f1_score\n",
    "from sklearn.preprocessing import StandardScaler,MinMaxScaler\n",
    "from sklearn.preprocessing import LabelEncoder, OneHotEncoder"
   ]
  },
  {
   "cell_type": "code",
   "execution_count": 2,
   "id": "912edbcc",
   "metadata": {
    "execution": {
     "iopub.execute_input": "2025-04-24T16:03:35.255254Z",
     "iopub.status.busy": "2025-04-24T16:03:35.254757Z",
     "iopub.status.idle": "2025-04-24T16:03:35.307364Z",
     "shell.execute_reply": "2025-04-24T16:03:35.306359Z"
    },
    "papermill": {
     "duration": 0.059893,
     "end_time": "2025-04-24T16:03:35.309136",
     "exception": false,
     "start_time": "2025-04-24T16:03:35.249243",
     "status": "completed"
    },
    "tags": []
   },
   "outputs": [
    {
     "data": {
      "text/html": [
       "<div>\n",
       "<style scoped>\n",
       "    .dataframe tbody tr th:only-of-type {\n",
       "        vertical-align: middle;\n",
       "    }\n",
       "\n",
       "    .dataframe tbody tr th {\n",
       "        vertical-align: top;\n",
       "    }\n",
       "\n",
       "    .dataframe thead th {\n",
       "        text-align: right;\n",
       "    }\n",
       "</style>\n",
       "<table border=\"1\" class=\"dataframe\">\n",
       "  <thead>\n",
       "    <tr style=\"text-align: right;\">\n",
       "      <th></th>\n",
       "      <th>Education</th>\n",
       "      <th>JoiningYear</th>\n",
       "      <th>City</th>\n",
       "      <th>PaymentTier</th>\n",
       "      <th>Age</th>\n",
       "      <th>Gender</th>\n",
       "      <th>EverBenched</th>\n",
       "      <th>ExperienceInCurrentDomain</th>\n",
       "      <th>LeaveOrNot</th>\n",
       "    </tr>\n",
       "  </thead>\n",
       "  <tbody>\n",
       "    <tr>\n",
       "      <th>0</th>\n",
       "      <td>Bachelors</td>\n",
       "      <td>2017</td>\n",
       "      <td>Bangalore</td>\n",
       "      <td>3</td>\n",
       "      <td>34</td>\n",
       "      <td>Male</td>\n",
       "      <td>No</td>\n",
       "      <td>0</td>\n",
       "      <td>0</td>\n",
       "    </tr>\n",
       "    <tr>\n",
       "      <th>1</th>\n",
       "      <td>Bachelors</td>\n",
       "      <td>2013</td>\n",
       "      <td>Pune</td>\n",
       "      <td>1</td>\n",
       "      <td>28</td>\n",
       "      <td>Female</td>\n",
       "      <td>No</td>\n",
       "      <td>3</td>\n",
       "      <td>1</td>\n",
       "    </tr>\n",
       "    <tr>\n",
       "      <th>2</th>\n",
       "      <td>Bachelors</td>\n",
       "      <td>2014</td>\n",
       "      <td>New Delhi</td>\n",
       "      <td>3</td>\n",
       "      <td>38</td>\n",
       "      <td>Female</td>\n",
       "      <td>No</td>\n",
       "      <td>2</td>\n",
       "      <td>0</td>\n",
       "    </tr>\n",
       "    <tr>\n",
       "      <th>3</th>\n",
       "      <td>Masters</td>\n",
       "      <td>2016</td>\n",
       "      <td>Bangalore</td>\n",
       "      <td>3</td>\n",
       "      <td>27</td>\n",
       "      <td>Male</td>\n",
       "      <td>No</td>\n",
       "      <td>5</td>\n",
       "      <td>1</td>\n",
       "    </tr>\n",
       "    <tr>\n",
       "      <th>4</th>\n",
       "      <td>Masters</td>\n",
       "      <td>2017</td>\n",
       "      <td>Pune</td>\n",
       "      <td>3</td>\n",
       "      <td>24</td>\n",
       "      <td>Male</td>\n",
       "      <td>Yes</td>\n",
       "      <td>2</td>\n",
       "      <td>1</td>\n",
       "    </tr>\n",
       "  </tbody>\n",
       "</table>\n",
       "</div>"
      ],
      "text/plain": [
       "   Education  JoiningYear       City  PaymentTier  Age  Gender EverBenched  \\\n",
       "0  Bachelors         2017  Bangalore            3   34    Male          No   \n",
       "1  Bachelors         2013       Pune            1   28  Female          No   \n",
       "2  Bachelors         2014  New Delhi            3   38  Female          No   \n",
       "3    Masters         2016  Bangalore            3   27    Male          No   \n",
       "4    Masters         2017       Pune            3   24    Male         Yes   \n",
       "\n",
       "   ExperienceInCurrentDomain  LeaveOrNot  \n",
       "0                          0           0  \n",
       "1                          3           1  \n",
       "2                          2           0  \n",
       "3                          5           1  \n",
       "4                          2           1  "
      ]
     },
     "execution_count": 2,
     "metadata": {},
     "output_type": "execute_result"
    }
   ],
   "source": [
    "df = pd.read_csv('/kaggle/input/employee-dataset/Employee.csv')\n",
    "df.head()"
   ]
  },
  {
   "cell_type": "code",
   "execution_count": 3,
   "id": "ff2c1086",
   "metadata": {
    "execution": {
     "iopub.execute_input": "2025-04-24T16:03:35.319667Z",
     "iopub.status.busy": "2025-04-24T16:03:35.319318Z",
     "iopub.status.idle": "2025-04-24T16:03:35.345598Z",
     "shell.execute_reply": "2025-04-24T16:03:35.344452Z"
    },
    "papermill": {
     "duration": 0.033465,
     "end_time": "2025-04-24T16:03:35.347274",
     "exception": false,
     "start_time": "2025-04-24T16:03:35.313809",
     "status": "completed"
    },
    "tags": []
   },
   "outputs": [
    {
     "name": "stdout",
     "output_type": "stream",
     "text": [
      "<class 'pandas.core.frame.DataFrame'>\n",
      "RangeIndex: 4653 entries, 0 to 4652\n",
      "Data columns (total 9 columns):\n",
      " #   Column                     Non-Null Count  Dtype \n",
      "---  ------                     --------------  ----- \n",
      " 0   Education                  4653 non-null   object\n",
      " 1   JoiningYear                4653 non-null   int64 \n",
      " 2   City                       4653 non-null   object\n",
      " 3   PaymentTier                4653 non-null   int64 \n",
      " 4   Age                        4653 non-null   int64 \n",
      " 5   Gender                     4653 non-null   object\n",
      " 6   EverBenched                4653 non-null   object\n",
      " 7   ExperienceInCurrentDomain  4653 non-null   int64 \n",
      " 8   LeaveOrNot                 4653 non-null   int64 \n",
      "dtypes: int64(5), object(4)\n",
      "memory usage: 327.3+ KB\n"
     ]
    }
   ],
   "source": [
    "df.info()"
   ]
  },
  {
   "cell_type": "code",
   "execution_count": 4,
   "id": "c435c447",
   "metadata": {
    "execution": {
     "iopub.execute_input": "2025-04-24T16:03:35.357650Z",
     "iopub.status.busy": "2025-04-24T16:03:35.357272Z",
     "iopub.status.idle": "2025-04-24T16:03:35.366104Z",
     "shell.execute_reply": "2025-04-24T16:03:35.365304Z"
    },
    "papermill": {
     "duration": 0.015637,
     "end_time": "2025-04-24T16:03:35.367545",
     "exception": false,
     "start_time": "2025-04-24T16:03:35.351908",
     "status": "completed"
    },
    "tags": []
   },
   "outputs": [
    {
     "data": {
      "text/plain": [
       "Education                    0\n",
       "JoiningYear                  0\n",
       "City                         0\n",
       "PaymentTier                  0\n",
       "Age                          0\n",
       "Gender                       0\n",
       "EverBenched                  0\n",
       "ExperienceInCurrentDomain    0\n",
       "LeaveOrNot                   0\n",
       "dtype: int64"
      ]
     },
     "execution_count": 4,
     "metadata": {},
     "output_type": "execute_result"
    }
   ],
   "source": [
    "df.isnull().sum()"
   ]
  },
  {
   "cell_type": "code",
   "execution_count": 5,
   "id": "bbc1eab3",
   "metadata": {
    "execution": {
     "iopub.execute_input": "2025-04-24T16:03:35.377663Z",
     "iopub.status.busy": "2025-04-24T16:03:35.377332Z",
     "iopub.status.idle": "2025-04-24T16:03:35.386033Z",
     "shell.execute_reply": "2025-04-24T16:03:35.385301Z"
    },
    "papermill": {
     "duration": 0.015276,
     "end_time": "2025-04-24T16:03:35.387390",
     "exception": false,
     "start_time": "2025-04-24T16:03:35.372114",
     "status": "completed"
    },
    "tags": []
   },
   "outputs": [
    {
     "data": {
      "text/plain": [
       "1889"
      ]
     },
     "execution_count": 5,
     "metadata": {},
     "output_type": "execute_result"
    }
   ],
   "source": [
    "df.duplicated().sum()"
   ]
  },
  {
   "cell_type": "code",
   "execution_count": 6,
   "id": "f45d68bd",
   "metadata": {
    "execution": {
     "iopub.execute_input": "2025-04-24T16:03:35.399019Z",
     "iopub.status.busy": "2025-04-24T16:03:35.398718Z",
     "iopub.status.idle": "2025-04-24T16:03:35.413076Z",
     "shell.execute_reply": "2025-04-24T16:03:35.412216Z"
    },
    "papermill": {
     "duration": 0.022319,
     "end_time": "2025-04-24T16:03:35.414581",
     "exception": false,
     "start_time": "2025-04-24T16:03:35.392262",
     "status": "completed"
    },
    "tags": []
   },
   "outputs": [
    {
     "data": {
      "text/plain": [
       "0"
      ]
     },
     "execution_count": 6,
     "metadata": {},
     "output_type": "execute_result"
    }
   ],
   "source": [
    "df.drop_duplicates(inplace=True)\n",
    "df.duplicated().sum()"
   ]
  },
  {
   "cell_type": "code",
   "execution_count": 7,
   "id": "237004a1",
   "metadata": {
    "execution": {
     "iopub.execute_input": "2025-04-24T16:03:35.424910Z",
     "iopub.status.busy": "2025-04-24T16:03:35.424630Z",
     "iopub.status.idle": "2025-04-24T16:03:35.698626Z",
     "shell.execute_reply": "2025-04-24T16:03:35.697682Z"
    },
    "papermill": {
     "duration": 0.281125,
     "end_time": "2025-04-24T16:03:35.700346",
     "exception": false,
     "start_time": "2025-04-24T16:03:35.419221",
     "status": "completed"
    },
    "tags": []
   },
   "outputs": [
    {
     "data": {
      "image/png": "[encoded data removed]",
      "text/plain": [
       "<Figure size 800x600 with 1 Axes>"
      ]
     },
     "metadata": {},
     "output_type": "display_data"
    }
   ],
   "source": [
    "plt.figure(figsize=(8, 6))\n",
    "sns.countplot(data=df, x='Education', palette='viridis')\n",
    "plt.title('Distribution of Educational Qualifications Among Employees', fontsize=16)\n",
    "plt.xlabel('Educational Qualification', fontsize=12)\n",
    "plt.ylabel('Number of Employees', fontsize=12)\n",
    "plt.show()"
   ]
  },
  {
   "cell_type": "code",
   "execution_count": 8,
   "id": "e34a2d58",
   "metadata": {
    "execution": {
     "iopub.execute_input": "2025-04-24T16:03:35.713336Z",
     "iopub.status.busy": "2025-04-24T16:03:35.712485Z",
     "iopub.status.idle": "2025-04-24T16:03:35.879608Z",
     "shell.execute_reply": "2025-04-24T16:03:35.878596Z"
    },
    "papermill": {
     "duration": 0.17519,
     "end_time": "2025-04-24T16:03:35.881351",
     "exception": false,
     "start_time": "2025-04-24T16:03:35.706161",
     "status": "completed"
    },
    "tags": []
   },
   "outputs": [
    {
     "data": {
      "image/png": "[encoded data removed]",
      "text/plain": [
       "<Figure size 800x600 with 1 Axes>"
      ]
     },
     "metadata": {},
     "output_type": "display_data"
    }
   ],
   "source": [
    "plt.figure(figsize=(8, 6))\n",
    "sns.countplot(data=df, x='Gender', palette='pastel')\n",
    "plt.title('Gender Distribution Within the Workforce', fontsize=16)\n",
    "plt.xlabel('Gender', fontsize=12)\n",
    "plt.ylabel('Number of Employees', fontsize=12)\n",
    "plt.show()"
   ]
  },
  {
   "cell_type": "code",
   "execution_count": 9,
   "id": "5ce75c61",
   "metadata": {
    "execution": {
     "iopub.execute_input": "2025-04-24T16:03:35.897136Z",
     "iopub.status.busy": "2025-04-24T16:03:35.896843Z",
     "iopub.status.idle": "2025-04-24T16:03:36.101844Z",
     "shell.execute_reply": "2025-04-24T16:03:36.100867Z"
    },
    "papermill": {
     "duration": 0.214856,
     "end_time": "2025-04-24T16:03:36.103568",
     "exception": false,
     "start_time": "2025-04-24T16:03:35.888712",
     "status": "completed"
    },
    "tags": []
   },
   "outputs": [
    {
     "data": {
      "image/png": "[encoded data removed]",
      "text/plain": [
       "<Figure size 1000x600 with 1 Axes>"
      ]
     },
     "metadata": {},
     "output_type": "display_data"
    }
   ],
   "source": [
    "plt.figure(figsize=(10, 6))\n",
    "sns.countplot(data=df, x='LeaveOrNot', hue='Gender', palette='Set1')\n",
    "plt.title('Patterns in Leave-Taking Behavior by Gender', fontsize=16)\n",
    "plt.xlabel('Leave Taken (Yes/No)', fontsize=12)\n",
    "plt.ylabel('Number of Employees', fontsize=12)\n",
    "plt.legend(title='Gender')\n",
    "plt.show()"
   ]
  },
  {
   "cell_type": "code",
   "execution_count": 10,
   "id": "f231a355",
   "metadata": {
    "execution": {
     "iopub.execute_input": "2025-04-24T16:03:36.118061Z",
     "iopub.status.busy": "2025-04-24T16:03:36.117787Z",
     "iopub.status.idle": "2025-04-24T16:03:36.128292Z",
     "shell.execute_reply": "2025-04-24T16:03:36.127295Z"
    },
    "papermill": {
     "duration": 0.019474,
     "end_time": "2025-04-24T16:03:36.129730",
     "exception": false,
     "start_time": "2025-04-24T16:03:36.110256",
     "status": "completed"
    },
    "tags": []
   },
   "outputs": [
    {
     "name": "stdout",
     "output_type": "stream",
     "text": [
      "<class 'pandas.core.frame.DataFrame'>\n",
      "Index: 2764 entries, 0 to 4651\n",
      "Data columns (total 9 columns):\n",
      " #   Column                     Non-Null Count  Dtype \n",
      "---  ------                     --------------  ----- \n",
      " 0   Education                  2764 non-null   object\n",
      " 1   JoiningYear                2764 non-null   int64 \n",
      " 2   City                       2764 non-null   object\n",
      " 3   PaymentTier                2764 non-null   int64 \n",
      " 4   Age                        2764 non-null   int64 \n",
      " 5   Gender                     2764 non-null   object\n",
      " 6   EverBenched                2764 non-null   object\n",
      " 7   ExperienceInCurrentDomain  2764 non-null   int64 \n",
      " 8   LeaveOrNot                 2764 non-null   int64 \n",
      "dtypes: int64(5), object(4)\n",
      "memory usage: 215.9+ KB\n"
     ]
    }
   ],
   "source": [
    "df.info()"
   ]
  },
  {
   "cell_type": "code",
   "execution_count": 11,
   "id": "ab44a5eb",
   "metadata": {
    "execution": {
     "iopub.execute_input": "2025-04-24T16:03:36.143733Z",
     "iopub.status.busy": "2025-04-24T16:03:36.143252Z",
     "iopub.status.idle": "2025-04-24T16:03:36.152388Z",
     "shell.execute_reply": "2025-04-24T16:03:36.151501Z"
    },
    "papermill": {
     "duration": 0.017987,
     "end_time": "2025-04-24T16:03:36.153984",
     "exception": false,
     "start_time": "2025-04-24T16:03:36.135997",
     "status": "completed"
    },
    "tags": []
   },
   "outputs": [],
   "source": [
    "le = LabelEncoder()\n",
    "for col in ['Education', 'City', 'Gender', 'EverBenched']:\n",
    "    df[col] = le.fit_transform(df[col])"
   ]
  },
  {
   "cell_type": "code",
   "execution_count": 12,
   "id": "0cc79047",
   "metadata": {
    "execution": {
     "iopub.execute_input": "2025-04-24T16:03:36.167921Z",
     "iopub.status.busy": "2025-04-24T16:03:36.167639Z",
     "iopub.status.idle": "2025-04-24T16:03:36.177508Z",
     "shell.execute_reply": "2025-04-24T16:03:36.176607Z"
    },
    "papermill": {
     "duration": 0.018775,
     "end_time": "2025-04-24T16:03:36.179139",
     "exception": false,
     "start_time": "2025-04-24T16:03:36.160364",
     "status": "completed"
    },
    "tags": []
   },
   "outputs": [
    {
     "data": {
      "text/html": [
       "<div>\n",
       "<style scoped>\n",
       "    .dataframe tbody tr th:only-of-type {\n",
       "        vertical-align: middle;\n",
       "    }\n",
       "\n",
       "    .dataframe tbody tr th {\n",
       "        vertical-align: top;\n",
       "    }\n",
       "\n",
       "    .dataframe thead th {\n",
       "        text-align: right;\n",
       "    }\n",
       "</style>\n",
       "<table border=\"1\" class=\"dataframe\">\n",
       "  <thead>\n",
       "    <tr style=\"text-align: right;\">\n",
       "      <th></th>\n",
       "      <th>Education</th>\n",
       "      <th>JoiningYear</th>\n",
       "      <th>City</th>\n",
       "      <th>PaymentTier</th>\n",
       "      <th>Age</th>\n",
       "      <th>Gender</th>\n",
       "      <th>EverBenched</th>\n",
       "      <th>ExperienceInCurrentDomain</th>\n",
       "      <th>LeaveOrNot</th>\n",
       "    </tr>\n",
       "  </thead>\n",
       "  <tbody>\n",
       "    <tr>\n",
       "      <th>0</th>\n",
       "      <td>0</td>\n",
       "      <td>2017</td>\n",
       "      <td>0</td>\n",
       "      <td>3</td>\n",
       "      <td>34</td>\n",
       "      <td>1</td>\n",
       "      <td>0</td>\n",
       "      <td>0</td>\n",
       "      <td>0</td>\n",
       "    </tr>\n",
       "    <tr>\n",
       "      <th>1</th>\n",
       "      <td>0</td>\n",
       "      <td>2013</td>\n",
       "      <td>2</td>\n",
       "      <td>1</td>\n",
       "      <td>28</td>\n",
       "      <td>0</td>\n",
       "      <td>0</td>\n",
       "      <td>3</td>\n",
       "      <td>1</td>\n",
       "    </tr>\n",
       "    <tr>\n",
       "      <th>2</th>\n",
       "      <td>0</td>\n",
       "      <td>2014</td>\n",
       "      <td>1</td>\n",
       "      <td>3</td>\n",
       "      <td>38</td>\n",
       "      <td>0</td>\n",
       "      <td>0</td>\n",
       "      <td>2</td>\n",
       "      <td>0</td>\n",
       "    </tr>\n",
       "    <tr>\n",
       "      <th>3</th>\n",
       "      <td>1</td>\n",
       "      <td>2016</td>\n",
       "      <td>0</td>\n",
       "      <td>3</td>\n",
       "      <td>27</td>\n",
       "      <td>1</td>\n",
       "      <td>0</td>\n",
       "      <td>5</td>\n",
       "      <td>1</td>\n",
       "    </tr>\n",
       "    <tr>\n",
       "      <th>4</th>\n",
       "      <td>1</td>\n",
       "      <td>2017</td>\n",
       "      <td>2</td>\n",
       "      <td>3</td>\n",
       "      <td>24</td>\n",
       "      <td>1</td>\n",
       "      <td>1</td>\n",
       "      <td>2</td>\n",
       "      <td>1</td>\n",
       "    </tr>\n",
       "  </tbody>\n",
       "</table>\n",
       "</div>"
      ],
      "text/plain": [
       "   Education  JoiningYear  City  PaymentTier  Age  Gender  EverBenched  \\\n",
       "0          0         2017     0            3   34       1            0   \n",
       "1          0         2013     2            1   28       0            0   \n",
       "2          0         2014     1            3   38       0            0   \n",
       "3          1         2016     0            3   27       1            0   \n",
       "4          1         2017     2            3   24       1            1   \n",
       "\n",
       "   ExperienceInCurrentDomain  LeaveOrNot  \n",
       "0                          0           0  \n",
       "1                          3           1  \n",
       "2                          2           0  \n",
       "3                          5           1  \n",
       "4                          2           1  "
      ]
     },
     "execution_count": 12,
     "metadata": {},
     "output_type": "execute_result"
    }
   ],
   "source": [
    "df.head()"
   ]
  },
  {
   "cell_type": "code",
   "execution_count": 13,
   "id": "9f167268",
   "metadata": {
    "execution": {
     "iopub.execute_input": "2025-04-24T16:03:36.194906Z",
     "iopub.status.busy": "2025-04-24T16:03:36.194564Z",
     "iopub.status.idle": "2025-04-24T16:03:36.204673Z",
     "shell.execute_reply": "2025-04-24T16:03:36.203695Z"
    },
    "papermill": {
     "duration": 0.020087,
     "end_time": "2025-04-24T16:03:36.205953",
     "exception": false,
     "start_time": "2025-04-24T16:03:36.185866",
     "status": "completed"
    },
    "tags": []
   },
   "outputs": [
    {
     "name": "stdout",
     "output_type": "stream",
     "text": [
      "<class 'pandas.core.frame.DataFrame'>\n",
      "Index: 2764 entries, 0 to 4651\n",
      "Data columns (total 9 columns):\n",
      " #   Column                     Non-Null Count  Dtype\n",
      "---  ------                     --------------  -----\n",
      " 0   Education                  2764 non-null   int64\n",
      " 1   JoiningYear                2764 non-null   int64\n",
      " 2   City                       2764 non-null   int64\n",
      " 3   PaymentTier                2764 non-null   int64\n",
      " 4   Age                        2764 non-null   int64\n",
      " 5   Gender                     2764 non-null   int64\n",
      " 6   EverBenched                2764 non-null   int64\n",
      " 7   ExperienceInCurrentDomain  2764 non-null   int64\n",
      " 8   LeaveOrNot                 2764 non-null   int64\n",
      "dtypes: int64(9)\n",
      "memory usage: 215.9 KB\n"
     ]
    }
   ],
   "source": [
    "df.info()"
   ]
  },
  {
   "cell_type": "code",
   "execution_count": 14,
   "id": "3310ef58",
   "metadata": {
    "execution": {
     "iopub.execute_input": "2025-04-24T16:03:36.220544Z",
     "iopub.status.busy": "2025-04-24T16:03:36.220227Z",
     "iopub.status.idle": "2025-04-24T16:03:36.230270Z",
     "shell.execute_reply": "2025-04-24T16:03:36.229310Z"
    },
    "papermill": {
     "duration": 0.019105,
     "end_time": "2025-04-24T16:03:36.231796",
     "exception": false,
     "start_time": "2025-04-24T16:03:36.212691",
     "status": "completed"
    },
    "tags": []
   },
   "outputs": [],
   "source": [
    "x = df.drop(['LeaveOrNot'], axis=1)\n",
    "y = df['LeaveOrNot']\n",
    "x_train, x_test, y_train, y_test = train_test_split(x, y, test_size=0.2, random_state=42, stratify=y)"
   ]
  },
  {
   "cell_type": "code",
   "execution_count": 15,
   "id": "f0256168",
   "metadata": {
    "execution": {
     "iopub.execute_input": "2025-04-24T16:03:36.245932Z",
     "iopub.status.busy": "2025-04-24T16:03:36.245629Z",
     "iopub.status.idle": "2025-04-24T16:03:36.255375Z",
     "shell.execute_reply": "2025-04-24T16:03:36.254328Z"
    },
    "papermill": {
     "duration": 0.018707,
     "end_time": "2025-04-24T16:03:36.256951",
     "exception": false,
     "start_time": "2025-04-24T16:03:36.238244",
     "status": "completed"
    },
    "tags": []
   },
   "outputs": [
    {
     "data": {
      "text/plain": [
       "(0.0, 1.0)"
      ]
     },
     "execution_count": 15,
     "metadata": {},
     "output_type": "execute_result"
    }
   ],
   "source": [
    "scaler = MinMaxScaler(feature_range=(0, 1))\n",
    "x =scaler.fit_transform(x)\n",
    "x.min(),x.max()"
   ]
  },
  {
   "cell_type": "code",
   "execution_count": 16,
   "id": "4984fcb2",
   "metadata": {
    "execution": {
     "iopub.execute_input": "2025-04-24T16:03:36.272097Z",
     "iopub.status.busy": "2025-04-24T16:03:36.271783Z",
     "iopub.status.idle": "2025-04-24T16:03:36.736653Z",
     "shell.execute_reply": "2025-04-24T16:03:36.734424Z"
    },
    "papermill": {
     "duration": 0.474915,
     "end_time": "2025-04-24T16:03:36.738657",
     "exception": false,
     "start_time": "2025-04-24T16:03:36.263742",
     "status": "completed"
    },
    "tags": []
   },
   "outputs": [
    {
     "name": "stderr",
     "output_type": "stream",
     "text": [
      "/usr/local/lib/python3.11/dist-packages/sklearn/linear_model/_logistic.py:458: ConvergenceWarning: lbfgs failed to converge (status=1):\n",
      "STOP: TOTAL NO. OF ITERATIONS REACHED LIMIT.\n",
      "\n",
      "Increase the number of iterations (max_iter) or scale the data as shown in:\n",
      "    https://scikit-learn.org/stable/modules/preprocessing.html\n",
      "Please also refer to the documentation for alternative solver options:\n",
      "    https://scikit-learn.org/stable/modules/linear_model.html#logistic-regression\n",
      "  n_iter_i = _check_optimize_result(\n"
     ]
    },
    {
     "data": {
      "text/html": [
       "<style>#sk-container-id-1 {color: black;background-color: white;}#sk-container-id-1 pre{padding: 0;}#sk-container-id-1 div.sk-toggleable {background-color: white;}#sk-container-id-1 label.sk-toggleable__label {cursor: pointer;display: block;width: 100%;margin-bottom: 0;padding: 0.3em;box-sizing: border-box;text-align: center;}#sk-container-id-1 label.sk-toggleable__label-arrow:before {content: \"▸\";float: left;margin-right: 0.25em;color: #696969;}#sk-container-id-1 label.sk-toggleable__label-arrow:hover:before {color: black;}#sk-container-id-1 div.sk-estimator:hover label.sk-toggleable__label-arrow:before {color: black;}#sk-container-id-1 div.sk-toggleable__content {max-height: 0;max-width: 0;overflow: hidden;text-align: left;background-color: #f0f8ff;}#sk-container-id-1 div.sk-toggleable__content pre {margin: 0.2em;color: black;border-radius: 0.25em;background-color: #f0f8ff;}#sk-container-id-1 input.sk-toggleable__control:checked~div.sk-toggleable__content {max-height: 200px;max-width: 100%;overflow: auto;}#sk-container-id-1 input.sk-toggleable__control:checked~label.sk-toggleable__label-arrow:before {content: \"▾\";}#sk-container-id-1 div.sk-estimator input.sk-toggleable__control:checked~label.sk-toggleable__label {background-color: #d4ebff;}#sk-container-id-1 div.sk-label input.sk-toggleable__control:checked~label.sk-toggleable__label {background-color: #d4ebff;}#sk-container-id-1 input.sk-hidden--visually {border: 0;clip: rect(1px 1px 1px 1px);clip: rect(1px, 1px, 1px, 1px);height: 1px;margin: -1px;overflow: hidden;padding: 0;position: absolute;width: 1px;}#sk-container-id-1 div.sk-estimator {font-family: monospace;background-color: #f0f8ff;border: 1px dotted black;border-radius: 0.25em;box-sizing: border-box;margin-bottom: 0.5em;}#sk-container-id-1 div.sk-estimator:hover {background-color: #d4ebff;}#sk-container-id-1 div.sk-parallel-item::after {content: \"\";width: 100%;border-bottom: 1px solid gray;flex-grow: 1;}#sk-container-id-1 div.sk-label:hover label.sk-toggleable__label {background-color: #d4ebff;}#sk-container-id-1 div.sk-serial::before {content: \"\";position: absolute;border-left: 1px solid gray;box-sizing: border-box;top: 0;bottom: 0;left: 50%;z-index: 0;}#sk-container-id-1 div.sk-serial {display: flex;flex-direction: column;align-items: center;background-color: white;padding-right: 0.2em;padding-left: 0.2em;position: relative;}#sk-container-id-1 div.sk-item {position: relative;z-index: 1;}#sk-container-id-1 div.sk-parallel {display: flex;align-items: stretch;justify-content: center;background-color: white;position: relative;}#sk-container-id-1 div.sk-item::before, #sk-container-id-1 div.sk-parallel-item::before {content: \"\";position: absolute;border-left: 1px solid gray;box-sizing: border-box;top: 0;bottom: 0;left: 50%;z-index: -1;}#sk-container-id-1 div.sk-parallel-item {display: flex;flex-direction: column;z-index: 1;position: relative;background-color: white;}#sk-container-id-1 div.sk-parallel-item:first-child::after {align-self: flex-end;width: 50%;}#sk-container-id-1 div.sk-parallel-item:last-child::after {align-self: flex-start;width: 50%;}#sk-container-id-1 div.sk-parallel-item:only-child::after {width: 0;}#sk-container-id-1 div.sk-dashed-wrapped {border: 1px dashed gray;margin: 0 0.4em 0.5em 0.4em;box-sizing: border-box;padding-bottom: 0.4em;background-color: white;}#sk-container-id-1 div.sk-label label {font-family: monospace;font-weight: bold;display: inline-block;line-height: 1.2em;}#sk-container-id-1 div.sk-label-container {text-align: center;}#sk-container-id-1 div.sk-container {/* jupyter's `normalize.less` sets `[hidden] { display: none; }` but bootstrap.min.css set `[hidden] { display: none !important; }` so we also need the `!important` here to be able to override the default hidden behavior on the sphinx rendered scikit-learn.org. See: https://github.com/scikit-learn/scikit-learn/issues/21755 */display: inline-block !important;position: relative;}#sk-container-id-1 div.sk-text-repr-fallback {display: none;}</style><div id=\"sk-container-id-1\" class=\"sk-top-container\"><div class=\"sk-text-repr-fallback\"><pre>LogisticRegression()</pre><b>In a Jupyter environment, please rerun this cell to show the HTML representation or trust the notebook. <br />On GitHub, the HTML representation is unable to render, please try loading this page with nbviewer.org.</b></div><div class=\"sk-container\" hidden><div class=\"sk-item\"><div class=\"sk-estimator sk-toggleable\"><input class=\"sk-toggleable__control sk-hidden--visually\" id=\"sk-estimator-id-1\" type=\"checkbox\" checked><label for=\"sk-estimator-id-1\" class=\"sk-toggleable__label sk-toggleable__label-arrow\">LogisticRegression</label><div class=\"sk-toggleable__content\"><pre>LogisticRegression()</pre></div></div></div></div></div>"
      ],
      "text/plain": [
       "LogisticRegression()"
      ]
     },
     "execution_count": 16,
     "metadata": {},
     "output_type": "execute_result"
    }
   ],
   "source": [
    "log_reg = LogisticRegression()\n",
    "log_reg.fit(x_train, y_train)"
   ]
  },
  {
   "cell_type": "code",
   "execution_count": 17,
   "id": "1448b05e",
   "metadata": {
    "execution": {
     "iopub.execute_input": "2025-04-24T16:03:36.763910Z",
     "iopub.status.busy": "2025-04-24T16:03:36.763246Z",
     "iopub.status.idle": "2025-04-24T16:03:36.770267Z",
     "shell.execute_reply": "2025-04-24T16:03:36.769505Z"
    },
    "papermill": {
     "duration": 0.021622,
     "end_time": "2025-04-24T16:03:36.772224",
     "exception": false,
     "start_time": "2025-04-24T16:03:36.750602",
     "status": "completed"
    },
    "tags": []
   },
   "outputs": [],
   "source": [
    "y_pred = log_reg.predict(x_test)"
   ]
  },
  {
   "cell_type": "code",
   "execution_count": 18,
   "id": "f99575f3",
   "metadata": {
    "execution": {
     "iopub.execute_input": "2025-04-24T16:03:36.797707Z",
     "iopub.status.busy": "2025-04-24T16:03:36.797208Z",
     "iopub.status.idle": "2025-04-24T16:03:36.830252Z",
     "shell.execute_reply": "2025-04-24T16:03:36.829273Z"
    },
    "papermill": {
     "duration": 0.047393,
     "end_time": "2025-04-24T16:03:36.831733",
     "exception": false,
     "start_time": "2025-04-24T16:03:36.784340",
     "status": "completed"
    },
    "tags": []
   },
   "outputs": [
    {
     "name": "stdout",
     "output_type": "stream",
     "text": [
      "Accuracy: 0.6763110307414105\n",
      "F1 Score: 0.4871060171919771\n",
      "Confusion Matrix:\n",
      " [[289  46]\n",
      " [133  85]]\n",
      "Classification Report:\n",
      "               precision    recall  f1-score   support\n",
      "\n",
      "           0       0.68      0.86      0.76       335\n",
      "           1       0.65      0.39      0.49       218\n",
      "\n",
      "    accuracy                           0.68       553\n",
      "   macro avg       0.67      0.63      0.63       553\n",
      "weighted avg       0.67      0.68      0.65       553\n",
      "\n"
     ]
    }
   ],
   "source": [
    "accuracy_score(y_test, y_pred)\n",
    "f1_score(y_test, y_pred)\n",
    "confusion_matrix(y_test, y_pred)\n",
    "classification_report(y_test, y_pred)\n",
    "print('Accuracy:', accuracy_score(y_test, y_pred))\n",
    "print('F1 Score:', f1_score(y_test, y_pred))\n",
    "print('Confusion Matrix:\\n', confusion_matrix(y_test, y_pred))\n",
    "print('Classification Report:\\n', classification_report(y_test, y_pred))"
   ]
  },
  {
   "cell_type": "code",
   "execution_count": 19,
   "id": "bcebfb50",
   "metadata": {
    "execution": {
     "iopub.execute_input": "2025-04-24T16:03:36.847320Z",
     "iopub.status.busy": "2025-04-24T16:03:36.846979Z",
     "iopub.status.idle": "2025-04-24T16:03:37.018109Z",
     "shell.execute_reply": "2025-04-24T16:03:37.017196Z"
    },
    "papermill": {
     "duration": 0.180904,
     "end_time": "2025-04-24T16:03:37.019807",
     "exception": false,
     "start_time": "2025-04-24T16:03:36.838903",
     "status": "completed"
    },
    "tags": []
   },
   "outputs": [
    {
     "data": {
      "image/png": "[encoded data removed]",
      "text/plain": [
       "<Figure size 640x480 with 2 Axes>"
      ]
     },
     "metadata": {},
     "output_type": "display_data"
    }
   ],
   "source": [
    "sns.heatmap(confusion_matrix(y_test, y_pred), annot=True, fmt='d', cmap='Blues')\n",
    "plt.title('Confusion Matrix', fontsize=16)  \n",
    "plt.xlabel('Predicted', fontsize=12)\n",
    "plt.ylabel('Actual', fontsize=12)\n",
    "plt.show()"
   ]
  },
  {
   "cell_type": "code",
   "execution_count": 20,
   "id": "86949f62",
   "metadata": {
    "execution": {
     "iopub.execute_input": "2025-04-24T16:03:37.037335Z",
     "iopub.status.busy": "2025-04-24T16:03:37.037027Z",
     "iopub.status.idle": "2025-04-24T16:03:37.360530Z",
     "shell.execute_reply": "2025-04-24T16:03:37.359681Z"
    },
    "papermill": {
     "duration": 0.334573,
     "end_time": "2025-04-24T16:03:37.362205",
     "exception": false,
     "start_time": "2025-04-24T16:03:37.027632",
     "status": "completed"
    },
    "tags": []
   },
   "outputs": [],
   "source": [
    "from sklearn.linear_model import LogisticRegression\n",
    "from sklearn.ensemble import RandomForestClassifier\n",
    "from sklearn.tree import DecisionTreeClassifier\n",
    "from sklearn.svm import SVC\n",
    "from sklearn.neighbors import KNeighborsClassifier\n",
    "from sklearn.ensemble import GradientBoostingClassifier\n",
    "from sklearn.metrics import accuracy_score, confusion_matrix, classification_report, f1_score,precision_score,recall_score\n",
    "from tqdm import tqdm\n",
    "\n",
    "Models = {\n",
    "    'Logistic Regression': LogisticRegression(),\n",
    "    'Random Forest': RandomForestClassifier(),\n",
    "    'DT': DecisionTreeClassifier(),\n",
    "    'SVM': SVC(),\n",
    "    'KNN': KNeighborsClassifier(),\n",
    "}"
   ]
  },
  {
   "cell_type": "code",
   "execution_count": 21,
   "id": "86284eab",
   "metadata": {
    "execution": {
     "iopub.execute_input": "2025-04-24T16:03:37.378446Z",
     "iopub.status.busy": "2025-04-24T16:03:37.377790Z",
     "iopub.status.idle": "2025-04-24T16:03:38.456879Z",
     "shell.execute_reply": "2025-04-24T16:03:38.456167Z"
    },
    "papermill": {
     "duration": 1.088519,
     "end_time": "2025-04-24T16:03:38.458192",
     "exception": false,
     "start_time": "2025-04-24T16:03:37.369673",
     "status": "completed"
    },
    "tags": []
   },
   "outputs": [
    {
     "name": "stderr",
     "output_type": "stream",
     "text": [
      "  0%|          | 0/5 [00:00<?, ?it/s]/usr/local/lib/python3.11/dist-packages/sklearn/linear_model/_logistic.py:458: ConvergenceWarning: lbfgs failed to converge (status=1):\n",
      "STOP: TOTAL NO. OF ITERATIONS REACHED LIMIT.\n",
      "\n",
      "Increase the number of iterations (max_iter) or scale the data as shown in:\n",
      "    https://scikit-learn.org/stable/modules/preprocessing.html\n",
      "Please also refer to the documentation for alternative solver options:\n",
      "    https://scikit-learn.org/stable/modules/linear_model.html#logistic-regression\n",
      "  n_iter_i = _check_optimize_result(\n",
      " 40%|████      | 2/5 [00:00<00:01,  2.60it/s]/usr/local/lib/python3.11/dist-packages/sklearn/metrics/_classification.py:1344: UndefinedMetricWarning: Precision is ill-defined and being set to 0.0 due to no predicted samples. Use `zero_division` parameter to control this behavior.\n",
      "  _warn_prf(average, modifier, msg_start, len(result))\n",
      "100%|██████████| 5/5 [00:01<00:00,  4.71it/s]\n"
     ]
    },
    {
     "data": {
      "text/html": [
       "<div>\n",
       "<style scoped>\n",
       "    .dataframe tbody tr th:only-of-type {\n",
       "        vertical-align: middle;\n",
       "    }\n",
       "\n",
       "    .dataframe tbody tr th {\n",
       "        vertical-align: top;\n",
       "    }\n",
       "\n",
       "    .dataframe thead th {\n",
       "        text-align: right;\n",
       "    }\n",
       "</style>\n",
       "<table border=\"1\" class=\"dataframe\">\n",
       "  <thead>\n",
       "    <tr style=\"text-align: right;\">\n",
       "      <th></th>\n",
       "      <th>accuracy_score</th>\n",
       "      <th>f1_score</th>\n",
       "      <th>precision_score</th>\n",
       "      <th>recall_score</th>\n",
       "    </tr>\n",
       "  </thead>\n",
       "  <tbody>\n",
       "    <tr>\n",
       "      <th>Logistic Regression</th>\n",
       "      <td>0.676311</td>\n",
       "      <td>0.487106</td>\n",
       "      <td>0.648855</td>\n",
       "      <td>0.389908</td>\n",
       "    </tr>\n",
       "    <tr>\n",
       "      <th>Random Forest</th>\n",
       "      <td>0.743219</td>\n",
       "      <td>0.645000</td>\n",
       "      <td>0.708791</td>\n",
       "      <td>0.591743</td>\n",
       "    </tr>\n",
       "    <tr>\n",
       "      <th>DT</th>\n",
       "      <td>0.678119</td>\n",
       "      <td>0.580189</td>\n",
       "      <td>0.597087</td>\n",
       "      <td>0.564220</td>\n",
       "    </tr>\n",
       "    <tr>\n",
       "      <th>SVM</th>\n",
       "      <td>0.605787</td>\n",
       "      <td>0.000000</td>\n",
       "      <td>0.000000</td>\n",
       "      <td>0.000000</td>\n",
       "    </tr>\n",
       "    <tr>\n",
       "      <th>KNN</th>\n",
       "      <td>0.699819</td>\n",
       "      <td>0.556150</td>\n",
       "      <td>0.666667</td>\n",
       "      <td>0.477064</td>\n",
       "    </tr>\n",
       "  </tbody>\n",
       "</table>\n",
       "</div>"
      ],
      "text/plain": [
       "                     accuracy_score  f1_score  precision_score  recall_score\n",
       "Logistic Regression        0.676311  0.487106         0.648855      0.389908\n",
       "Random Forest              0.743219  0.645000         0.708791      0.591743\n",
       "DT                         0.678119  0.580189         0.597087      0.564220\n",
       "SVM                        0.605787  0.000000         0.000000      0.000000\n",
       "KNN                        0.699819  0.556150         0.666667      0.477064"
      ]
     },
     "execution_count": 21,
     "metadata": {},
     "output_type": "execute_result"
    }
   ],
   "source": [
    "ModelName = []\n",
    "ModelAccuracy = []\n",
    "\n",
    "for nameModel, model in tqdm(Models.items()):\n",
    "    model.fit(x_train, y_train)\n",
    "    ModelName.append(nameModel)\n",
    "    y_pred = model.predict(x_test)\n",
    "    ModelAccuracy.append([\n",
    "        accuracy_score(y_test, y_pred),\n",
    "        f1_score(y_test, y_pred),\n",
    "        precision_score(y_test, y_pred),\n",
    "        recall_score(y_test, y_pred)  # إزالة الفاصل السطر وإغلاق القوس بشكل صحيح\n",
    "    ])\n",
    "\n",
    "# إنشاء DataFrame\n",
    "Model_accuracy = pd.DataFrame(ModelAccuracy, index=ModelName, columns=['accuracy_score', 'f1_score', 'precision_score', 'recall_score'])\n",
    "Model_accuracy"
   ]
  },
  {
   "cell_type": "code",
   "execution_count": 22,
   "id": "3cbbc383",
   "metadata": {
    "execution": {
     "iopub.execute_input": "2025-04-24T16:03:38.475236Z",
     "iopub.status.busy": "2025-04-24T16:03:38.474905Z",
     "iopub.status.idle": "2025-04-24T16:03:38.798370Z",
     "shell.execute_reply": "2025-04-24T16:03:38.797503Z"
    },
    "papermill": {
     "duration": 0.334153,
     "end_time": "2025-04-24T16:03:38.800046",
     "exception": false,
     "start_time": "2025-04-24T16:03:38.465893",
     "status": "completed"
    },
    "tags": []
   },
   "outputs": [
    {
     "data": {
      "image/png": "[encoded data removed]",
      "text/plain": [
       "<Figure size 1000x600 with 1 Axes>"
      ]
     },
     "metadata": {},
     "output_type": "display_data"
    }
   ],
   "source": [
    "import matplotlib.pyplot as plt\n",
    "\n",
    "Model_accuracy.plot(kind='bar', figsize=(10, 6))\n",
    "\n",
    "# Customizing the plot\n",
    "plt.xlabel('Model')\n",
    "plt.ylabel('Scores')\n",
    "plt.title('Model Accuracy Scores')\n",
    "plt.xticks(rotation=45)  # Rotate model names for better readability\n",
    "plt.legend(loc='upper right')\n",
    "plt.tight_layout()  # Adjust layout to fit labels\n",
    "\n",
    "# Display the plot\n",
    "plt.show()"
   ]
  }
 ],
 "metadata": {
  "kaggle": {
   "accelerator": "none",
   "dataSources": [
    {
     "datasetId": 3707753,
     "sourceId": 6426550,
     "sourceType": "datasetVersion"
    }
   ],
   "dockerImageVersionId": 31012,
   "isGpuEnabled": false,
   "isInternetEnabled": true,
   "language": "python",
   "sourceType": "notebook"
  },
  "kernelspec": {
   "display_name": "Python 3",
   "language": "python",
   "name": "python3"
  },
  "language_info": {
   "codemirror_mode": {
    "name": "ipython",
    "version": 3
   },
   "file_extension": ".py",
   "mimetype": "text/x-python",
   "name": "python",
   "nbconvert_exporter": "python",
   "pygments_lexer": "ipython3",
   "version": "3.11.11"
  },
  "papermill": {
   "default_parameters": {},
   "duration": 13.692663,
   "end_time": "2025-04-24T16:03:39.529187",
   "environment_variables": {},
   "exception": null,
   "input_path": "__notebook__.ipynb",
   "output_path": "__notebook__.ipynb",
   "parameters": {},
   "start_time": "2025-04-24T16:03:25.836524",
   "version": "2.6.0"
  }
 },
 "nbformat": 4,
 "nbformat_minor": 5
}
